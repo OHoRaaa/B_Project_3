{
 "cells": [
  {
   "cell_type": "code",
   "execution_count": 1,
   "id": "1c2ca7a7",
   "metadata": {},
   "outputs": [],
   "source": [
    "import pandas as pd\n",
    "import numpy as np\n",
    "import matplotlib.pyplot as plt\n",
    "import seaborn as sns\n",
    "import tensorflow as tf"
   ]
  },
  {
   "cell_type": "code",
   "execution_count": 2,
   "id": "807d5aba",
   "metadata": {},
   "outputs": [],
   "source": [
    "from sklearn.preprocessing import LabelEncoder\n",
    "from sklearn.model_selection import train_test_split"
   ]
  },
  {
   "cell_type": "code",
   "execution_count": 3,
   "id": "5b31bd9e",
   "metadata": {},
   "outputs": [],
   "source": [
    "from tensorflow.keras import Sequential\n",
    "from tensorflow.keras.layers import MaxPooling2D, Conv2D, Flatten, Dense, Dropout\n",
    "from tensorflow.keras.utils import to_categorical\n",
    "from keras.preprocessing.image import load_img, img_to_array\n",
    "from tensorflow.image import central_crop, pad_to_bounding_box, resize"
   ]
  },
  {
   "cell_type": "code",
   "execution_count": 4,
   "id": "9998270f",
   "metadata": {},
   "outputs": [
    {
     "name": "stdout",
     "output_type": "stream",
     "text": [
      "1 Physical GPUs, 1 Logical GPUs\n"
     ]
    }
   ],
   "source": [
    "gpus = tf.config.experimental.list_physical_devices('GPU')\n",
    "if gpus:\n",
    "  # Restrict TensorFlow to only allocate 1GB of memory on the first GPU\n",
    "    try:\n",
    "        tf.config.experimental.set_virtual_device_configuration(\n",
    "            gpus[0],\n",
    "            [tf.config.experimental.VirtualDeviceConfiguration(memory_limit=1024)])\n",
    "        logical_gpus = tf.config.experimental.list_logical_devices('GPU')\n",
    "        print(len(gpus), \"Physical GPUs,\", len(logical_gpus), \"Logical GPUs\")\n",
    "    except RuntimeError as e:\n",
    "        # Virtual devices must be set before GPUs have been initialized\n",
    "        print(e)"
   ]
  },
  {
   "cell_type": "code",
   "execution_count": 5,
   "id": "ca7e2c69",
   "metadata": {},
   "outputs": [],
   "source": [
    "config = tf.compat.v1.ConfigProto()\n",
    "config.gpu_options.allow_growth = True\n",
    "config.gpu_options.per_process_gpu_memory_fraction = 0.4 \n",
    "session = tf.compat.v1.Session(config=config)"
   ]
  },
  {
   "cell_type": "code",
   "execution_count": 6,
   "id": "13567553",
   "metadata": {},
   "outputs": [
    {
     "name": "stdout",
     "output_type": "stream",
     "text": [
      "[name: \"/device:CPU:0\"\n",
      "device_type: \"CPU\"\n",
      "memory_limit: 268435456\n",
      "locality {\n",
      "}\n",
      "incarnation: 3799780236880887250\n",
      "xla_global_id: -1\n",
      ", name: \"/device:GPU:0\"\n",
      "device_type: \"GPU\"\n",
      "memory_limit: 1073741824\n",
      "locality {\n",
      "  bus_id: 1\n",
      "  links {\n",
      "  }\n",
      "}\n",
      "incarnation: 14636806062672162237\n",
      "physical_device_desc: \"device: 0, name: NVIDIA GeForce RTX 2080, pci bus id: 0000:01:00.0, compute capability: 7.5\"\n",
      "xla_global_id: 416903419\n",
      "]\n"
     ]
    }
   ],
   "source": [
    "from tensorflow.python.client import device_lib\n",
    "print(device_lib.list_local_devices())"
   ]
  },
  {
   "cell_type": "code",
   "execution_count": 7,
   "id": "a2cc05fc",
   "metadata": {},
   "outputs": [
    {
     "ename": "FileNotFoundError",
     "evalue": "[Errno 2] No such file or directory: 'img/grand+canyon/1.jpg'",
     "output_type": "error",
     "traceback": [
      "\u001b[1;31m---------------------------------------------------------------------------\u001b[0m",
      "\u001b[1;31mFileNotFoundError\u001b[0m                         Traceback (most recent call last)",
      "\u001b[1;32m~\\AppData\\Local\\Temp/ipykernel_14124/3157042582.py\u001b[0m in \u001b[0;36m<module>\u001b[1;34m\u001b[0m\n\u001b[0;32m      6\u001b[0m     \u001b[1;32mfor\u001b[0m \u001b[0mi\u001b[0m \u001b[1;32min\u001b[0m \u001b[0mrange\u001b[0m\u001b[1;33m(\u001b[0m\u001b[1;36m1\u001b[0m\u001b[1;33m,\u001b[0m \u001b[1;36m50\u001b[0m\u001b[1;33m)\u001b[0m\u001b[1;33m:\u001b[0m\u001b[1;33m\u001b[0m\u001b[1;33m\u001b[0m\u001b[0m\n\u001b[0;32m      7\u001b[0m         \u001b[0mpath\u001b[0m \u001b[1;33m=\u001b[0m \u001b[1;34mf\"img/{name}/{i}.jpg\"\u001b[0m\u001b[1;33m\u001b[0m\u001b[1;33m\u001b[0m\u001b[0m\n\u001b[1;32m----> 8\u001b[1;33m         \u001b[0mimg\u001b[0m \u001b[1;33m=\u001b[0m \u001b[0mload_img\u001b[0m\u001b[1;33m(\u001b[0m\u001b[0mpath\u001b[0m\u001b[1;33m)\u001b[0m\u001b[1;33m\u001b[0m\u001b[1;33m\u001b[0m\u001b[0m\n\u001b[0m\u001b[0;32m      9\u001b[0m         \u001b[0mimg_array\u001b[0m \u001b[1;33m=\u001b[0m \u001b[0mimg_to_array\u001b[0m\u001b[1;33m(\u001b[0m\u001b[0mimg\u001b[0m\u001b[1;33m)\u001b[0m \u001b[1;33m/\u001b[0m \u001b[1;36m255\u001b[0m\u001b[1;33m\u001b[0m\u001b[1;33m\u001b[0m\u001b[0m\n\u001b[0;32m     10\u001b[0m         \u001b[0mimg_resize\u001b[0m \u001b[1;33m=\u001b[0m \u001b[0mresize\u001b[0m\u001b[1;33m(\u001b[0m\u001b[0mimg_array\u001b[0m\u001b[1;33m,\u001b[0m \u001b[0msize\u001b[0m\u001b[1;33m)\u001b[0m\u001b[1;33m\u001b[0m\u001b[1;33m\u001b[0m\u001b[0m\n",
      "\u001b[1;32m~\\anaconda3\\lib\\site-packages\\keras\\preprocessing\\image.py\u001b[0m in \u001b[0;36mload_img\u001b[1;34m(path, grayscale, color_mode, target_size, interpolation)\u001b[0m\n\u001b[0;32m    311\u001b[0m       \u001b[0mValueError\u001b[0m\u001b[1;33m:\u001b[0m \u001b[1;32mif\u001b[0m \u001b[0minterpolation\u001b[0m \u001b[0mmethod\u001b[0m \u001b[1;32mis\u001b[0m \u001b[1;32mnot\u001b[0m \u001b[0msupported\u001b[0m\u001b[1;33m.\u001b[0m\u001b[1;33m\u001b[0m\u001b[1;33m\u001b[0m\u001b[0m\n\u001b[0;32m    312\u001b[0m   \"\"\"\n\u001b[1;32m--> 313\u001b[1;33m   return image.load_img(path, grayscale=grayscale, color_mode=color_mode,\n\u001b[0m\u001b[0;32m    314\u001b[0m                         target_size=target_size, interpolation=interpolation)\n\u001b[0;32m    315\u001b[0m \u001b[1;33m\u001b[0m\u001b[0m\n",
      "\u001b[1;32m~\\anaconda3\\lib\\site-packages\\keras_preprocessing\\image\\utils.py\u001b[0m in \u001b[0;36mload_img\u001b[1;34m(path, grayscale, color_mode, target_size, interpolation)\u001b[0m\n\u001b[0;32m    111\u001b[0m         raise ImportError('Could not import PIL.Image. '\n\u001b[0;32m    112\u001b[0m                           'The use of `load_img` requires PIL.')\n\u001b[1;32m--> 113\u001b[1;33m     \u001b[1;32mwith\u001b[0m \u001b[0mopen\u001b[0m\u001b[1;33m(\u001b[0m\u001b[0mpath\u001b[0m\u001b[1;33m,\u001b[0m \u001b[1;34m'rb'\u001b[0m\u001b[1;33m)\u001b[0m \u001b[1;32mas\u001b[0m \u001b[0mf\u001b[0m\u001b[1;33m:\u001b[0m\u001b[1;33m\u001b[0m\u001b[1;33m\u001b[0m\u001b[0m\n\u001b[0m\u001b[0;32m    114\u001b[0m         \u001b[0mimg\u001b[0m \u001b[1;33m=\u001b[0m \u001b[0mpil_image\u001b[0m\u001b[1;33m.\u001b[0m\u001b[0mopen\u001b[0m\u001b[1;33m(\u001b[0m\u001b[0mio\u001b[0m\u001b[1;33m.\u001b[0m\u001b[0mBytesIO\u001b[0m\u001b[1;33m(\u001b[0m\u001b[0mf\u001b[0m\u001b[1;33m.\u001b[0m\u001b[0mread\u001b[0m\u001b[1;33m(\u001b[0m\u001b[1;33m)\u001b[0m\u001b[1;33m)\u001b[0m\u001b[1;33m)\u001b[0m\u001b[1;33m\u001b[0m\u001b[1;33m\u001b[0m\u001b[0m\n\u001b[0;32m    115\u001b[0m         \u001b[1;32mif\u001b[0m \u001b[0mcolor_mode\u001b[0m \u001b[1;33m==\u001b[0m \u001b[1;34m'grayscale'\u001b[0m\u001b[1;33m:\u001b[0m\u001b[1;33m\u001b[0m\u001b[1;33m\u001b[0m\u001b[0m\n",
      "\u001b[1;31mFileNotFoundError\u001b[0m: [Errno 2] No such file or directory: 'img/grand+canyon/1.jpg'"
     ]
    }
   ],
   "source": [
    "x = []\n",
    "y = []\n",
    "size = (360, 360) \n",
    "search_names = ['grand+canyon', 'Eiffel+Tower', 'Great+Wall', 'Maldives', 'Venice', 'abu+simbel', 'Colosseum', 'Hawaii', 'alps', 'Himalaya']\n",
    "for name in search_names:\n",
    "    for i in range(1, 50):\n",
    "        path = f\"img/{name}/{i}.jpg\"\n",
    "        img = load_img(path)\n",
    "        img_array = img_to_array(img) / 255\n",
    "        img_resize = resize(img_array, size)\n",
    "        x.append(np.array(img_resize))\n",
    "        y.append(name)\n",
    "x = np.array(x)"
   ]
  },
  {
   "cell_type": "code",
   "execution_count": 8,
   "id": "f6fb110e",
   "metadata": {},
   "outputs": [],
   "source": [
    "x_train, x_test, y_train, y_test = train_test_split(x, y, test_size=0.2, random_state=111)"
   ]
  },
  {
   "cell_type": "code",
   "execution_count": 9,
   "id": "f226e3ea",
   "metadata": {},
   "outputs": [],
   "source": [
    "en = LabelEncoder()\n",
    "y_train_en = en.fit_transform(y_train)\n",
    "y_test_en = en.fit_transform(y_test)"
   ]
  },
  {
   "cell_type": "code",
   "execution_count": 10,
   "id": "c7704e75",
   "metadata": {},
   "outputs": [],
   "source": [
    "y_train_oh = to_categorical(y_train_en)\n",
    "y_test_oh = to_categorical(y_test_en)"
   ]
  },
  {
   "cell_type": "code",
   "execution_count": 11,
   "id": "c9c676f8",
   "metadata": {},
   "outputs": [
    {
     "data": {
      "text/plain": [
       "array([7, 6, 5, 7, 7, 3, 2, 9, 4, 6, 0, 1, 2, 6, 2, 8, 1, 0, 9, 5, 6, 0,\n",
       "       3, 9, 0, 7, 7, 5, 8, 3, 1, 9, 8, 3, 7, 9, 4, 7, 0, 0, 6, 9, 1, 4,\n",
       "       0, 9, 8, 5, 2, 5, 5, 6, 1, 9, 4, 7, 9, 4, 5, 4, 9, 5, 5, 3, 6, 0,\n",
       "       8, 6, 0, 0, 0, 7, 5, 4, 7, 2, 6, 2, 5, 7, 1, 5, 3, 3, 1, 0, 9, 0,\n",
       "       6, 8, 5, 5, 7, 9, 0, 0, 2, 0], dtype=int64)"
      ]
     },
     "execution_count": 11,
     "metadata": {},
     "output_type": "execute_result"
    }
   ],
   "source": [
    "y_test_en"
   ]
  },
  {
   "cell_type": "code",
   "execution_count": 12,
   "id": "cd3a0a2e",
   "metadata": {},
   "outputs": [
    {
     "name": "stdout",
     "output_type": "stream",
     "text": [
      "Model: \"sequential\"\n",
      "_________________________________________________________________\n",
      " Layer (type)                Output Shape              Param #   \n",
      "=================================================================\n",
      " conv2d (Conv2D)             (None, 360, 360, 8)       224       \n",
      "                                                                 \n",
      " max_pooling2d (MaxPooling2D  (None, 180, 180, 8)      0         \n",
      " )                                                               \n",
      "                                                                 \n",
      " dropout (Dropout)           (None, 180, 180, 8)       0         \n",
      "                                                                 \n",
      " conv2d_1 (Conv2D)           (None, 180, 180, 16)      1168      \n",
      "                                                                 \n",
      " max_pooling2d_1 (MaxPooling  (None, 90, 90, 16)       0         \n",
      " 2D)                                                             \n",
      "                                                                 \n",
      " dropout_1 (Dropout)         (None, 90, 90, 16)        0         \n",
      "                                                                 \n",
      " flatten (Flatten)           (None, 129600)            0         \n",
      "                                                                 \n",
      " dense (Dense)               (None, 50)                6480050   \n",
      "                                                                 \n",
      " dense_1 (Dense)             (None, 10)                510       \n",
      "                                                                 \n",
      "=================================================================\n",
      "Total params: 6,481,952\n",
      "Trainable params: 6,481,952\n",
      "Non-trainable params: 0\n",
      "_________________________________________________________________\n"
     ]
    }
   ],
   "source": [
    "with tf.device('/GPU:0'):\n",
    "    model = Sequential()\n",
    "    model.add(Conv2D(8, (3,3), strides=1, activation='relu', padding='same', input_shape=(360, 360, 3)))\n",
    "    model.add(MaxPooling2D(2))\n",
    "    model.add(Dropout(0.2))\n",
    "\n",
    "    model.add(Conv2D(16, (3,3), strides=1, activation='relu', padding='same'))\n",
    "    model.add(MaxPooling2D(2))\n",
    "    model.add(Dropout(0.2))\n",
    "\n",
    "    model.add(Flatten())\n",
    "\n",
    "    model.add(Dense(50, activation='relu'))\n",
    "    model.add(Dense(10, activation='softmax'))\n",
    "    model.summary()"
   ]
  },
  {
   "cell_type": "code",
   "execution_count": 13,
   "id": "647fb0b8",
   "metadata": {},
   "outputs": [],
   "source": [
    "model.compile(loss='categorical_crossentropy', metrics=['accuracy'], optimizer='adam')"
   ]
  },
  {
   "cell_type": "code",
   "execution_count": 14,
   "id": "fd3d57dc",
   "metadata": {},
   "outputs": [
    {
     "name": "stdout",
     "output_type": "stream",
     "text": [
      "Epoch 1/50\n",
      "392/392 [==============================] - 13s 4ms/step - loss: 2.2510 - accuracy: 0.2883 - val_loss: 1.3372 - val_accuracy: 0.5816\n",
      "Epoch 2/50\n",
      "392/392 [==============================] - 2s 4ms/step - loss: 1.0915 - accuracy: 0.6403 - val_loss: 0.6136 - val_accuracy: 0.8469\n",
      "Epoch 3/50\n",
      "392/392 [==============================] - 2s 4ms/step - loss: 0.3615 - accuracy: 0.9082 - val_loss: 0.5121 - val_accuracy: 0.8367\n",
      "Epoch 4/50\n",
      "392/392 [==============================] - 2s 4ms/step - loss: 0.1307 - accuracy: 0.9643 - val_loss: 0.5684 - val_accuracy: 0.8367\n",
      "Epoch 5/50\n",
      "392/392 [==============================] - 2s 4ms/step - loss: 0.1274 - accuracy: 0.9617 - val_loss: 0.4244 - val_accuracy: 0.9082\n",
      "Epoch 6/50\n",
      "392/392 [==============================] - 2s 4ms/step - loss: 0.0680 - accuracy: 0.9872 - val_loss: 0.1078 - val_accuracy: 0.9796\n",
      "Epoch 7/50\n",
      "392/392 [==============================] - 2s 4ms/step - loss: 0.2196 - accuracy: 0.9668 - val_loss: 0.3788 - val_accuracy: 0.9184\n",
      "Epoch 8/50\n",
      "392/392 [==============================] - 2s 4ms/step - loss: 0.1493 - accuracy: 0.9668 - val_loss: 0.2427 - val_accuracy: 0.9184\n",
      "Epoch 9/50\n",
      "392/392 [==============================] - 2s 4ms/step - loss: 0.0078 - accuracy: 0.9974 - val_loss: 0.2064 - val_accuracy: 0.9490\n",
      "Epoch 10/50\n",
      "392/392 [==============================] - 2s 4ms/step - loss: 0.1401 - accuracy: 0.9796 - val_loss: 0.2803 - val_accuracy: 0.9286\n",
      "Epoch 11/50\n",
      "392/392 [==============================] - 1s 4ms/step - loss: 0.0560 - accuracy: 0.9821 - val_loss: 0.1296 - val_accuracy: 0.9592\n",
      "Epoch 12/50\n",
      "392/392 [==============================] - 2s 4ms/step - loss: 0.0132 - accuracy: 0.9974 - val_loss: 0.2233 - val_accuracy: 0.9490\n",
      "Epoch 13/50\n",
      "392/392 [==============================] - 1s 4ms/step - loss: 0.0015 - accuracy: 1.0000 - val_loss: 0.2153 - val_accuracy: 0.9490\n",
      "Epoch 14/50\n",
      "392/392 [==============================] - 2s 4ms/step - loss: 7.8793e-04 - accuracy: 1.0000 - val_loss: 0.2332 - val_accuracy: 0.9490\n",
      "Epoch 15/50\n",
      "392/392 [==============================] - 2s 4ms/step - loss: 5.2016e-04 - accuracy: 1.0000 - val_loss: 0.2431 - val_accuracy: 0.9490\n",
      "Epoch 16/50\n",
      "392/392 [==============================] - 2s 4ms/step - loss: 3.8308e-04 - accuracy: 1.0000 - val_loss: 0.2579 - val_accuracy: 0.9490\n",
      "Epoch 17/50\n",
      "392/392 [==============================] - 2s 4ms/step - loss: 2.9259e-04 - accuracy: 1.0000 - val_loss: 0.2695 - val_accuracy: 0.9490\n",
      "Epoch 18/50\n",
      "392/392 [==============================] - 2s 4ms/step - loss: 1.9084e-04 - accuracy: 1.0000 - val_loss: 0.2699 - val_accuracy: 0.9694\n",
      "Epoch 19/50\n",
      "392/392 [==============================] - 2s 4ms/step - loss: 1.6239e-04 - accuracy: 1.0000 - val_loss: 0.2726 - val_accuracy: 0.9694\n",
      "Epoch 20/50\n",
      "392/392 [==============================] - 2s 4ms/step - loss: 1.2901e-04 - accuracy: 1.0000 - val_loss: 0.2720 - val_accuracy: 0.9694\n",
      "Epoch 21/50\n",
      "392/392 [==============================] - 2s 4ms/step - loss: 1.1023e-04 - accuracy: 1.0000 - val_loss: 0.2805 - val_accuracy: 0.9694\n",
      "Epoch 22/50\n",
      "392/392 [==============================] - 2s 4ms/step - loss: 6.2242e-05 - accuracy: 1.0000 - val_loss: 0.2803 - val_accuracy: 0.9694\n",
      "Epoch 23/50\n",
      "392/392 [==============================] - 1s 4ms/step - loss: 3.5454e-05 - accuracy: 1.0000 - val_loss: 0.2828 - val_accuracy: 0.9694\n",
      "Epoch 24/50\n",
      "392/392 [==============================] - 2s 4ms/step - loss: 4.5955e-05 - accuracy: 1.0000 - val_loss: 0.2845 - val_accuracy: 0.9694\n",
      "Epoch 25/50\n",
      "392/392 [==============================] - 2s 4ms/step - loss: 2.6943e-05 - accuracy: 1.0000 - val_loss: 0.2846 - val_accuracy: 0.9694\n",
      "Epoch 26/50\n",
      "392/392 [==============================] - 2s 4ms/step - loss: 2.2361e-05 - accuracy: 1.0000 - val_loss: 0.2872 - val_accuracy: 0.9694\n",
      "Epoch 27/50\n",
      "392/392 [==============================] - 2s 4ms/step - loss: 1.5022e-05 - accuracy: 1.0000 - val_loss: 0.2834 - val_accuracy: 0.9694\n",
      "Epoch 28/50\n",
      "392/392 [==============================] - 2s 4ms/step - loss: 1.4184e-05 - accuracy: 1.0000 - val_loss: 0.2867 - val_accuracy: 0.9694\n",
      "Epoch 29/50\n",
      "392/392 [==============================] - 2s 4ms/step - loss: 1.5721e-05 - accuracy: 1.0000 - val_loss: 0.3009 - val_accuracy: 0.9694\n",
      "Epoch 30/50\n",
      "392/392 [==============================] - 2s 4ms/step - loss: 8.4380e-06 - accuracy: 1.0000 - val_loss: 0.3011 - val_accuracy: 0.9694\n",
      "Epoch 31/50\n",
      "392/392 [==============================] - 2s 4ms/step - loss: 7.5729e-06 - accuracy: 1.0000 - val_loss: 0.3034 - val_accuracy: 0.9694\n",
      "Epoch 32/50\n",
      "392/392 [==============================] - 1s 4ms/step - loss: 1.3409e-05 - accuracy: 1.0000 - val_loss: 0.2699 - val_accuracy: 0.9796\n",
      "Epoch 33/50\n",
      "392/392 [==============================] - 2s 4ms/step - loss: 8.9220e-06 - accuracy: 1.0000 - val_loss: 0.3184 - val_accuracy: 0.9694\n",
      "Epoch 34/50\n",
      "392/392 [==============================] - 2s 4ms/step - loss: 3.4507e-06 - accuracy: 1.0000 - val_loss: 0.3230 - val_accuracy: 0.9694\n",
      "Epoch 35/50\n",
      "392/392 [==============================] - 2s 4ms/step - loss: 3.4018e-06 - accuracy: 1.0000 - val_loss: 0.3305 - val_accuracy: 0.9694\n",
      "Epoch 36/50\n",
      "392/392 [==============================] - 2s 4ms/step - loss: 2.2632e-06 - accuracy: 1.0000 - val_loss: 0.3304 - val_accuracy: 0.9694\n",
      "Epoch 37/50\n",
      "392/392 [==============================] - 2s 4ms/step - loss: 1.0211e-06 - accuracy: 1.0000 - val_loss: 0.3321 - val_accuracy: 0.9694\n",
      "Epoch 38/50\n",
      "392/392 [==============================] - 2s 4ms/step - loss: 9.9408e-07 - accuracy: 1.0000 - val_loss: 0.3355 - val_accuracy: 0.9694\n",
      "Epoch 39/50\n",
      "392/392 [==============================] - 2s 4ms/step - loss: 1.1953e-06 - accuracy: 1.0000 - val_loss: 0.3439 - val_accuracy: 0.9694\n",
      "Epoch 40/50\n",
      "392/392 [==============================] - 2s 4ms/step - loss: 5.9360e-07 - accuracy: 1.0000 - val_loss: 0.3455 - val_accuracy: 0.9694\n",
      "Epoch 41/50\n",
      "392/392 [==============================] - 2s 4ms/step - loss: 4.9416e-07 - accuracy: 1.0000 - val_loss: 0.3468 - val_accuracy: 0.9694\n",
      "Epoch 42/50\n",
      "392/392 [==============================] - 2s 4ms/step - loss: 5.0511e-07 - accuracy: 1.0000 - val_loss: 0.3433 - val_accuracy: 0.9694\n",
      "Epoch 43/50\n",
      "392/392 [==============================] - 2s 4ms/step - loss: 3.2508e-07 - accuracy: 1.0000 - val_loss: 0.3477 - val_accuracy: 0.9694\n",
      "Epoch 44/50\n",
      "392/392 [==============================] - 2s 4ms/step - loss: 2.6427e-07 - accuracy: 1.0000 - val_loss: 0.3469 - val_accuracy: 0.9694\n",
      "Epoch 45/50\n",
      "392/392 [==============================] - 2s 4ms/step - loss: 3.3907e-07 - accuracy: 1.0000 - val_loss: 0.3531 - val_accuracy: 0.9796\n",
      "Epoch 46/50\n",
      "392/392 [==============================] - 2s 4ms/step - loss: 2.1743e-07 - accuracy: 1.0000 - val_loss: 0.3575 - val_accuracy: 0.9796\n",
      "Epoch 47/50\n",
      "392/392 [==============================] - 2s 4ms/step - loss: 1.9949e-07 - accuracy: 1.0000 - val_loss: 0.3620 - val_accuracy: 0.9796\n",
      "Epoch 48/50\n",
      "392/392 [==============================] - 2s 4ms/step - loss: 1.3624e-07 - accuracy: 1.0000 - val_loss: 0.3616 - val_accuracy: 0.9694\n",
      "Epoch 49/50\n",
      "392/392 [==============================] - 2s 4ms/step - loss: 1.4110e-07 - accuracy: 1.0000 - val_loss: 0.3676 - val_accuracy: 0.9796\n",
      "Epoch 50/50\n",
      "392/392 [==============================] - 2s 4ms/step - loss: 6.4166e-08 - accuracy: 1.0000 - val_loss: 0.3624 - val_accuracy: 0.9796\n"
     ]
    }
   ],
   "source": [
    "with tf.device('/GPU:0'):\n",
    "    hist = model.fit(x_train, y_train_oh, batch_size=1, epochs=50, validation_data=(x_test, y_test_oh))"
   ]
  },
  {
   "cell_type": "code",
   "execution_count": 15,
   "id": "ab5957f0",
   "metadata": {
    "scrolled": true
   },
   "outputs": [
    {
     "data": {
      "text/plain": [
       "[<matplotlib.lines.Line2D at 0x20174168880>]"
      ]
     },
     "execution_count": 15,
     "metadata": {},
     "output_type": "execute_result"
    },
    {
     "data": {
      "image/png": "[encoded data removed]",
      "text/plain": [
       "<Figure size 720x720 with 1 Axes>"
      ]
     },
     "metadata": {
      "needs_background": "light"
     },
     "output_type": "display_data"
    }
   ],
   "source": [
    "plt.figure(figsize=(10,10))\n",
    "plt.plot(hist.history['loss'])\n",
    "plt.plot(hist.history['val_loss'])"
   ]
  },
  {
   "cell_type": "code",
   "execution_count": 16,
   "id": "aa7a1d6d",
   "metadata": {},
   "outputs": [
    {
     "data": {
      "text/plain": [
       "[<matplotlib.lines.Line2D at 0x20182577a00>]"
      ]
     },
     "execution_count": 16,
     "metadata": {},
     "output_type": "execute_result"
    },
    {
     "data": {
      "image/png": "[encoded data removed]",
      "text/plain": [
       "<Figure size 432x288 with 1 Axes>"
      ]
     },
     "metadata": {
      "needs_background": "light"
     },
     "output_type": "display_data"
    }
   ],
   "source": [
    "plt.plot(hist.history['accuracy'])\n",
    "plt.plot(hist.history['val_accuracy'])"
   ]
  },
  {
   "cell_type": "code",
   "execution_count": 18,
   "id": "d20934dc",
   "metadata": {},
   "outputs": [
    {
     "name": "stdout",
     "output_type": "stream",
     "text": [
      "4/4 [==============================] - 1s 26ms/step - loss: 0.3624 - accuracy: 0.9796\n"
     ]
    },
    {
     "data": {
      "text/plain": [
       "[0.3624327480792999, 0.9795918464660645]"
      ]
     },
     "execution_count": 18,
     "metadata": {},
     "output_type": "execute_result"
    }
   ],
   "source": [
    "model.evaluate(x_test, y_test_oh)"
   ]
  },
  {
   "cell_type": "code",
   "execution_count": 36,
   "id": "6dd77227",
   "metadata": {},
   "outputs": [],
   "source": [
    "pred = model.predict(x_test)"
   ]
  },
  {
   "cell_type": "code",
   "execution_count": 37,
   "id": "bbf15043",
   "metadata": {},
   "outputs": [
    {
     "name": "stdout",
     "output_type": "stream",
     "text": [
      "True\n",
      "True\n",
      "True\n",
      "True\n",
      "True\n",
      "True\n",
      "True\n",
      "True\n",
      "True\n",
      "True\n",
      "True\n",
      "True\n",
      "True\n",
      "True\n",
      "True\n",
      "True\n",
      "True\n",
      "True\n",
      "True\n",
      "True\n",
      "True\n",
      "True\n",
      "True\n",
      "True\n",
      "True\n",
      "True\n",
      "True\n",
      "True\n",
      "True\n",
      "True\n",
      "True\n",
      "True\n",
      "True\n",
      "True\n",
      "True\n",
      "True\n",
      "True\n",
      "True\n",
      "True\n",
      "True\n",
      "True\n",
      "False\n",
      "True\n",
      "True\n",
      "True\n",
      "True\n",
      "True\n",
      "True\n",
      "True\n",
      "True\n",
      "True\n",
      "True\n",
      "True\n",
      "True\n",
      "True\n",
      "True\n",
      "True\n",
      "True\n",
      "True\n",
      "True\n",
      "True\n",
      "True\n",
      "True\n",
      "True\n",
      "True\n",
      "True\n",
      "False\n",
      "True\n",
      "True\n",
      "True\n",
      "True\n",
      "True\n",
      "True\n",
      "True\n",
      "True\n",
      "True\n",
      "True\n",
      "True\n",
      "True\n",
      "True\n",
      "True\n",
      "True\n",
      "True\n",
      "True\n",
      "True\n",
      "True\n",
      "True\n",
      "True\n",
      "True\n",
      "True\n",
      "True\n",
      "True\n",
      "True\n",
      "True\n",
      "True\n",
      "True\n",
      "True\n",
      "True\n"
     ]
    }
   ],
   "source": [
    "for i in range(len(pred)):\n",
    "    print(np.argmax(pred[i]) == y_test_en[i])"
   ]
  },
  {
   "cell_type": "code",
   "execution_count": null,
   "id": "b43fc779",
   "metadata": {},
   "outputs": [],
   "source": []
  }
 ],
 "metadata": {
  "kernelspec": {
   "display_name": "Python 3 (ipykernel)",
   "language": "python",
   "name": "python3"
  },
  "language_info": {
   "codemirror_mode": {
    "name": "ipython",
    "version": 3
   },
   "file_extension": ".py",
   "mimetype": "text/x-python",
   "name": "python",
   "nbconvert_exporter": "python",
   "pygments_lexer": "ipython3",
   "version": "3.9.7"
  }
 },
 "nbformat": 4,
 "nbformat_minor": 5
}
